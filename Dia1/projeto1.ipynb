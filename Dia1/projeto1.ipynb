{
 "cells": [
  {
   "cell_type": "code",
   "execution_count": 6,
   "id": "c4978ba0",
   "metadata": {},
   "outputs": [
    {
     "name": "stdout",
     "output_type": "stream",
     "text": [
      "Requirement already satisfied: fpdf in d:\\users\\hugom\\anaconda3\\lib\\site-packages (1.7.2)\n"
     ]
    }
   ],
   "source": [
    "!pip install fpdf\n"
   ]
  },
  {
   "cell_type": "code",
   "execution_count": 12,
   "id": "4479f5fe",
   "metadata": {},
   "outputs": [
    {
     "name": "stdout",
     "output_type": "stream",
     "text": [
      "digite o nome do projeto: projeto 1\n",
      "digite oas horas estimadas: 30\n",
      "digite o vallor da hora: 10\n",
      "digite o prazo de entrega: 2 meses\n"
     ]
    }
   ],
   "source": [
    "projeto = input(\"digite o nome do projeto: \")\n",
    "horas_estimadas = input(\"digite as horas estimadas: \")\n",
    "valor_hora = input(\"digite o valor da hora: \")\n",
    "prazo = input(\"digite o prazo de entrega: \")\n",
    "valor_total =( int(valor_hora)* int(horas_estimadas))"
   ]
  },
  {
   "cell_type": "code",
   "execution_count": null,
   "id": "d49203b4",
   "metadata": {},
   "outputs": [],
   "source": []
  },
  {
   "cell_type": "code",
   "execution_count": 13,
   "id": "10532319",
   "metadata": {},
   "outputs": [
    {
     "data": {
      "text/plain": [
       "''"
      ]
     },
     "execution_count": 13,
     "metadata": {},
     "output_type": "execute_result"
    }
   ],
   "source": [
    "from fpdf import FPDF\n",
    "pdf = FPDF()\n",
    "pdf.add_page()\n",
    "pdf.set_font(\"arial\")\n",
    "\n",
    "pdf.text(115,145,projeto)\n",
    "pdf.text(115,160,horas_estimadas)\n",
    "pdf.text(115,175,valor_hora)\n",
    "pdf.text(115,190,prazo)\n",
    "pdf.text(115,205,str(valor_total))\n",
    "\n",
    "pdf.output(\"orçamento.pdf\")\n",
    "\n",
    "print(\"pdf criado com sucesso\")"
   ]
  },
  {
   "cell_type": "code",
   "execution_count": null,
   "id": "78afe5a5",
   "metadata": {},
   "outputs": [],
   "source": []
  }
 ],
 "metadata": {
  "kernelspec": {
   "display_name": "Python 3 (ipykernel)",
   "language": "python",
   "name": "python3"
  },
  "language_info": {
   "codemirror_mode": {
    "name": "ipython",
    "version": 3
   },
   "file_extension": ".py",
   "mimetype": "text/x-python",
   "name": "python",
   "nbconvert_exporter": "python",
   "pygments_lexer": "ipython3",
   "version": "3.9.7"
  }
 },
 "nbformat": 4,
 "nbformat_minor": 5
}
