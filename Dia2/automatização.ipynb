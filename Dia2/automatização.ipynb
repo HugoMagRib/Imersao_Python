{
 "cells": [
  {
   "cell_type": "markdown",
   "id": "75d261ff",
   "metadata": {},
   "source": [
    "# buscar infomaçoes de forma automatica no yahoo fincancias"
   ]
  },
  {
   "cell_type": "code",
   "execution_count": 1,
   "id": "b80a4336",
   "metadata": {},
   "outputs": [],
   "source": [
    "#bibliotecas instaladas\n",
    "#!pip install yfinance\n",
    "#!pip install pyautogui\n",
    "#!pip install pyperclip"
   ]
  },
  {
   "cell_type": "code",
   "execution_count": 2,
   "id": "b2f33f75",
   "metadata": {},
   "outputs": [],
   "source": [
    "#bibliotecas importadas\n",
    "import pyautogui\n",
    "import pyperclip\n",
    "import yfinance\n",
    "import time"
   ]
  },
  {
   "cell_type": "code",
   "execution_count": 3,
   "id": "ac55b5b2",
   "metadata": {},
   "outputs": [],
   "source": [
    "#pegar a posição do mouse\n",
    "\n",
    "#time.sleep(5)\n",
    "#pyautogui.position()"
   ]
  },
  {
   "cell_type": "code",
   "execution_count": 4,
   "id": "7cf0542c",
   "metadata": {},
   "outputs": [
    {
     "name": "stdout",
     "output_type": "stream",
     "text": [
      "Digite a ação desejada(igual ao yahoo finance): PETR4.SA\n"
     ]
    }
   ],
   "source": [
    "#recebendo qual cotação deseja saber\n",
    "ticker = input(\"Digite a ação desejada(igual ao yahoo finance): \")\n",
    "dados = yfinance.Ticker(ticker)\n",
    "\n",
    "tabela= dados.history('6mo')\n",
    "\n",
    "fechamento = tabela.Close"
   ]
  },
  {
   "cell_type": "markdown",
   "id": "3e385736",
   "metadata": {},
   "source": [
    "# gerar analises\n",
    "-cotação maxima\n",
    "\n",
    "-cotaçao minima\n",
    "\n",
    "-cotaçao atual\n"
   ]
  },
  {
   "cell_type": "code",
   "execution_count": 5,
   "id": "7d7297a0",
   "metadata": {},
   "outputs": [],
   "source": [
    "maxima = fechamento.max()\n",
    "minimo = fechamento.min()\n",
    "atual = fechamento[-1]"
   ]
  },
  {
   "cell_type": "code",
   "execution_count": 6,
   "id": "539e7b08",
   "metadata": {},
   "outputs": [
    {
     "name": "stdout",
     "output_type": "stream",
     "text": [
      "A cotação maxima nos ultimos 6 meses foi: 34.47999954223633\n",
      "A cotação minima nos ultimos 6 meses foi: 21.407672882080078\n",
      "A cotação atual é: 32.790000915527344\n"
     ]
    },
    {
     "data": {
      "image/png": "[encoded data removed]",
      "text/plain": [
       "<Figure size 432x288 with 1 Axes>"
      ]
     },
     "metadata": {
      "needs_background": "light"
     },
     "output_type": "display_data"
    }
   ],
   "source": [
    "#OBTENDO INFORMAÇOES\n",
    "print(\"A cotação maxima nos ultimos 6 meses foi:\", maxima)\n",
    "print(\"A cotação minima nos ultimos 6 meses foi:\", minimo)\n",
    "print(\"A cotação atual é:\", atual)\n",
    "grafico = fechamento.plot()\n"
   ]
  },
  {
   "cell_type": "markdown",
   "id": "cb91b902",
   "metadata": {},
   "source": [
    "# enviar por email de forma automatica"
   ]
  },
  {
   "cell_type": "code",
   "execution_count": 7,
   "id": "3c23c904",
   "metadata": {},
   "outputs": [],
   "source": [
    "#utilização de macro para abrir o email\n",
    "time.sleep(5)\n",
    "pyautogui.PAUSE = 2\n",
    "\n",
    "#abrir o email\n",
    "pyautogui.hotkey(\"ctrl\", \"t\")\n",
    "pyperclip.copy(\"www.gmail.com\")\n",
    "pyautogui.hotkey(\"ctrl\",\"v\")\n",
    "pyautogui.hotkey(\"enter\")\n",
    "pyautogui.click(x=98, y=196)\n",
    "\n",
    "#colocando o destinatario\n",
    "pyperclip.copy(\"hugo1teste1@gmail.com\")\n",
    "pyautogui.hotkey(\"ctrl\",\"v\")\n",
    "pyautogui.hotkey(\"tab\")\n",
    "\n",
    "#colocando assunto\n",
    "pyperclip.copy(\"Analises diárias\")\n",
    "pyautogui.hotkey(\"ctrl\",\"v\")\n",
    "pyautogui.hotkey(\"tab\")\n",
    "\n",
    "#colocando conteudo\n",
    "mensagem = f\"\"\"Boa noite,\n",
    "\n",
    "Seguem as análises dos últimos 6 meses da ação {ticker}:\n",
    "\n",
    "cotação máxima: {round(maxima,2)}\n",
    "cotação mínima: {round(minimo,2)}\n",
    "cotação atual: {round(atual,2)}\n",
    "\n",
    "Qualquer dúvida entrar em contato\n",
    "\"\"\"\n",
    "pyperclip.copy(mensagem)\n",
    "pyautogui.hotkey(\"ctrl\",\"v\")\n",
    "\n",
    "pyautogui.click(x=1313, y=1010)\n"
   ]
  }
 ],
 "metadata": {
  "kernelspec": {
   "display_name": "Python 3 (ipykernel)",
   "language": "python",
   "name": "python3"
  },
  "language_info": {
   "codemirror_mode": {
    "name": "ipython",
    "version": 3
   },
   "file_extension": ".py",
   "mimetype": "text/x-python",
   "name": "python",
   "nbconvert_exporter": "python",
   "pygments_lexer": "ipython3",
   "version": "3.9.7"
  }
 },
 "nbformat": 4,
 "nbformat_minor": 5
}
