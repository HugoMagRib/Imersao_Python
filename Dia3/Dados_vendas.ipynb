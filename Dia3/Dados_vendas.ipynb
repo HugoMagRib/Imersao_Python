{
 "cells": [
  {
   "cell_type": "code",
   "execution_count": null,
   "id": "53921548",
   "metadata": {},
   "outputs": [],
   "source": [
    "#importa o pandas de da um apelido\n",
    "import pandas as pd"
   ]
  },
  {
   "cell_type": "code",
   "execution_count": null,
   "id": "e30ee059",
   "metadata": {},
   "outputs": [],
   "source": [
    "#pegando os dados em excel\n",
    "dados = pd.read_excel(\"vendas.xlsx\")"
   ]
  },
  {
   "cell_type": "code",
   "execution_count": null,
   "id": "7e7f708e",
   "metadata": {},
   "outputs": [],
   "source": [
    "dados"
   ]
  },
  {
   "cell_type": "markdown",
   "id": "de35d9eb",
   "metadata": {},
   "source": [
    "# Analise exploratoria"
   ]
  },
  {
   "cell_type": "code",
   "execution_count": null,
   "id": "7bf46b0a",
   "metadata": {},
   "outputs": [],
   "source": [
    "#linhas e colunas totais da tabela\n",
    "dados.shape\n",
    "#as primeiras linhas\n",
    "dados.head(10)"
   ]
  },
  {
   "cell_type": "code",
   "execution_count": null,
   "id": "821941b8",
   "metadata": {
    "scrolled": true
   },
   "outputs": [],
   "source": [
    "#ver as ultimas linhas\n",
    "dados.tail(10)"
   ]
  },
  {
   "cell_type": "code",
   "execution_count": null,
   "id": "2e3719b8",
   "metadata": {},
   "outputs": [],
   "source": [
    "#receber informaçoes\n",
    "dados.describe()"
   ]
  },
  {
   "cell_type": "code",
   "execution_count": null,
   "id": "b7ae1318",
   "metadata": {},
   "outputs": [],
   "source": [
    "# contatar a recorrencia  na tabela\n",
    "dados.loja.value_counts()"
   ]
  },
  {
   "cell_type": "code",
   "execution_count": null,
   "id": "da4578cc",
   "metadata": {},
   "outputs": [],
   "source": [
    "#somar todos os valores de um dados\n",
    "dados.groupby(\"loja\").sum()\n"
   ]
  },
  {
   "cell_type": "code",
   "execution_count": null,
   "id": "000867c4",
   "metadata": {},
   "outputs": [],
   "source": [
    "#media por loja + importar para excel\n",
    "dados.groupby(\"loja\").mean().to_excel(\"ticketmedio.xlsx\")\n"
   ]
  },
  {
   "cell_type": "code",
   "execution_count": null,
   "id": "467c36d5",
   "metadata": {},
   "outputs": [],
   "source": [
    "dados_agrupados = dados.groupby([\"estado\",\"loja\", \"tamanho\"]).sum()"
   ]
  },
  {
   "cell_type": "code",
   "execution_count": null,
   "id": "76659a16",
   "metadata": {},
   "outputs": [],
   "source": [
    "dados_agrupados"
   ]
  },
  {
   "cell_type": "markdown",
   "id": "103fc359",
   "metadata": {},
   "source": [
    "# graficos"
   ]
  },
  {
   "cell_type": "code",
   "execution_count": null,
   "id": "d2fd003e",
   "metadata": {},
   "outputs": [],
   "source": [
    "!pip install plotly_express"
   ]
  },
  {
   "cell_type": "code",
   "execution_count": null,
   "id": "e695a525",
   "metadata": {},
   "outputs": [],
   "source": [
    "import plotly_express as px"
   ]
  },
  {
   "cell_type": "code",
   "execution_count": null,
   "id": "5ee96bb4",
   "metadata": {},
   "outputs": [],
   "source": [
    "dados.head()"
   ]
  },
  {
   "cell_type": "code",
   "execution_count": null,
   "id": "1a74dfc5",
   "metadata": {
    "scrolled": true
   },
   "outputs": [],
   "source": [
    "# contagem de lojas por grafico\n",
    "px.histogram(dados, x=\"loja\", color=\"estado\")"
   ]
  },
  {
   "cell_type": "code",
   "execution_count": null,
   "id": "d4effa6a",
   "metadata": {},
   "outputs": [],
   "source": []
  },
  {
   "cell_type": "code",
   "execution_count": null,
   "id": "672e2561",
   "metadata": {},
   "outputs": [],
   "source": [
    "grafico =  px.histogram(dados, x = \"loja\", y= \"preco\", color= \"forma_pagamento\", text_auto=True)\n",
    "grafico.show()\n",
    "#grafico.write_html(\"grafico.html\")"
   ]
  },
  {
   "cell_type": "code",
   "execution_count": null,
   "id": "d2700dfe",
   "metadata": {},
   "outputs": [],
   "source": [
    "#salvando os graficos separadamente e criando html\n",
    "lista_coluna = [\"loja\",\"cidade\",\"estado\",\"regiao\",\"tamanho\",\"local_consumo\"]\n",
    "for coluna in lista_coluna:\n",
    "    grafico =  px.histogram(dados, x = coluna, y= \"preco\", color= \"forma_pagamento\", text_auto=True)\n",
    "    grafico.show()\n",
    "    grafico.write_html(f\"grafico-{coluna}.html\")"
   ]
  },
  {
   "cell_type": "code",
   "execution_count": null,
   "id": "ac1690ef",
   "metadata": {},
   "outputs": [],
   "source": [
    "#grafico interativo\n",
    "agrupado = dados.groupby(['loja','ano_mes']).sum()\n",
    "agrupado.reset_index(inplace=True)\n",
    "agrupado['acumulado'] = agrupado.groupby('loja').cumsum()#soma acumulada da loja\n",
    "\n",
    "fig = px.bar(agrupado,\n",
    "            x= 'acumulado',\n",
    "            y='loja',\n",
    "            color = 'loja',\n",
    "            text_auto = True,\n",
    "            range_x=[0,160000],\n",
    "             animation_frame='ano_mes')\n",
    "fig.show()\n",
    "fig.write_html(\"Grafico_animado.html\")"
   ]
  },
  {
   "cell_type": "code",
   "execution_count": null,
   "id": "b6961908",
   "metadata": {},
   "outputs": [],
   "source": []
  }
 ],
 "metadata": {
  "kernelspec": {
   "display_name": "Python 3 (ipykernel)",
   "language": "python",
   "name": "python3"
  },
  "language_info": {
   "codemirror_mode": {
    "name": "ipython",
    "version": 3
   },
   "file_extension": ".py",
   "mimetype": "text/x-python",
   "name": "python",
   "nbconvert_exporter": "python",
   "pygments_lexer": "ipython3",
   "version": "3.9.7"
  }
 },
 "nbformat": 4,
 "nbformat_minor": 5
}
